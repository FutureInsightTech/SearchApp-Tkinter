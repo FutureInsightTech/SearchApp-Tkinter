{
 "cells": [
  {
   "cell_type": "code",
   "execution_count": 3,
   "id": "ab87b9b9-1ec9-45db-8085-bf7e400efdd8",
   "metadata": {},
   "outputs": [],
   "source": [
    "import pandas as pd\n",
    "import glob\n",
    "import time\n",
    "import tkinter as tk\n",
    "from tkinter import ttk, messagebox"
   ]
  },
  {
   "cell_type": "code",
   "execution_count": 4,
   "id": "8746df25-655d-4469-9197-9ca676222f74",
   "metadata": {},
   "outputs": [],
   "source": [
    "\n",
    "# Brute Force Search Algorithm\n",
    "def brute_force_search(text, pattern):\n",
    "    n = len(text)\n",
    "    m = len(pattern)\n",
    "    locations = []\n",
    "\n",
    "    for i in range(n - m + 1):\n",
    "        j = 0\n",
    "        while j < m and text[i + j] == pattern[j]:\n",
    "            j += 1\n",
    "        if j == m:\n",
    "            locations.append(i)\n",
    "    \n",
    "    return locations\n"
   ]
  },
  {
   "cell_type": "code",
   "execution_count": 5,
   "id": "c5a5d1c1-825c-403a-8304-038558338ce5",
   "metadata": {},
   "outputs": [],
   "source": [
    "# KMP Search Algorithm\n",
    "def compute_lps(pattern):\n",
    "    m = len(pattern)\n",
    "    lps = [0] * m\n",
    "    length = 0\n",
    "    i = 1\n",
    "\n",
    "    while i < m:\n",
    "        if pattern[i] == pattern[length]:\n",
    "            length += 1\n",
    "            lps[i] = length\n",
    "            i += 1\n",
    "        else:\n",
    "            if length != 0:\n",
    "                length = lps[length - 1]\n",
    "            else:\n",
    "                lps[i] = 0\n",
    "                i += 1\n",
    "    return lps\n"
   ]
  },
  {
   "cell_type": "code",
   "execution_count": 6,
   "id": "468d65de-0053-457f-b208-d05696b7385b",
   "metadata": {},
   "outputs": [],
   "source": [
    "def kmp_search(text, pattern):\n",
    "    n = len(text)\n",
    "    m = len(pattern)\n",
    "    lps = compute_lps(pattern)\n",
    "    locations = []\n",
    "    i = 0\n",
    "    j = 0\n",
    "\n",
    "    while i < n:\n",
    "        if pattern[j] == text[i]:\n",
    "            i += 1\n",
    "            j += 1\n",
    "        if j == m:\n",
    "            locations.append(i - j)\n",
    "            j = lps[j - 1]\n",
    "        elif i < n and pattern[j] != text[i]:\n",
    "            if j != 0:\n",
    "                j = lps[j - 1]\n",
    "            else:\n",
    "                i += 1\n",
    "    \n",
    "    return locations\n"
   ]
  },
  {
   "cell_type": "code",
   "execution_count": 7,
   "id": "5d238403-7391-43c1-bf27-11dcc15aac70",
   "metadata": {},
   "outputs": [],
   "source": [
    "# Updated search_dataframe function to include case sensitivity and whole word match\n",
    "def search_dataframe(df, pattern, algorithm='brute_force', case_sensitive=False, whole_word=False):\n",
    "    results = []\n",
    "    \n",
    "    if not pattern:\n",
    "        raise ValueError(\"Search pattern cannot be empty.\")\n",
    "\n",
    "    # Modify pattern and content based on case sensitivity\n",
    "    if not case_sensitive:\n",
    "        pattern = pattern.lower()\n",
    "\n",
    "    # Choose search algorithm\n",
    "    search_func = brute_force_search if algorithm == 'brute_force' else kmp_search\n",
    "\n",
    "    # Search each file (row in the DataFrame)\n",
    "    for index, row in df.iterrows():\n",
    "        filename = row['Filename']\n",
    "        content = row['Content']\n",
    "        \n",
    "        # Modify content based on case sensitivity\n",
    "        if not case_sensitive:\n",
    "            content = content.lower()\n",
    "\n",
    "        # Search the pattern in the content\n",
    "        start_time = time.time()\n",
    "        try:\n",
    "            positions = search_func(content, pattern)\n",
    "        except Exception as e:\n",
    "            raise RuntimeError(f\"Error while searching in file {filename}: {str(e)}\")\n",
    "\n",
    "        end_time = time.time()\n",
    "\n",
    "        # Filter results based on whole word match\n",
    "        if whole_word:\n",
    "            positions = [pos for pos in positions if (pos == 0 or not content[pos - 1].isalnum()) and\n",
    "                         (pos + len(pattern) == len(content) or not content[pos + len(pattern)].isalnum())]\n",
    "\n",
    "        # Record time taken and matches\n",
    "        for pos in positions:\n",
    "            results.append({\n",
    "                'Filename': filename,\n",
    "                'Row': index,\n",
    "                'Column (position)': pos,\n",
    "                'Time Taken (s)': round(end_time - start_time, 4)\n",
    "            })\n",
    "\n",
    "    return results\n"
   ]
  },
  {
   "cell_type": "code",
   "execution_count": 8,
   "id": "54140a74-e9c9-4aa1-8e91-f79226142b7e",
   "metadata": {},
   "outputs": [],
   "source": [
    "# Function to run the search when the button is clicked\n",
    "def run_search():\n",
    "    search_text = search_entry.get()\n",
    "    algorithm = algorithm_choice.get()\n",
    "    case_sensitive = case_sensitive_var.get()\n",
    "    whole_word = whole_word_var.get()\n",
    "\n",
    "    if not search_text:\n",
    "        messagebox.showerror(\"Input Error\", \"Please enter the search text.\")\n",
    "        return\n",
    "\n",
    "    try:\n",
    "        results = search_dataframe(df, search_text, algorithm, case_sensitive, whole_word)\n",
    "        if results:\n",
    "            output_text.delete(1.0, tk.END)  # Clear previous results\n",
    "            output_text.insert(tk.END, \"Search Results:\\n\")\n",
    "            output_text.insert(tk.END, \"-\"*50 + \"\\n\")\n",
    "            \n",
    "            # Format and display each result\n",
    "            for result in results:\n",
    "                output_text.insert(tk.END, f\"Filename: {result['Filename']}\\n\")\n",
    "                output_text.insert(tk.END, f\"Row: {result['Row']}\\n\")\n",
    "                output_text.insert(tk.END, f\"Position (Column): {result['Column (position)']}\\n\")\n",
    "                output_text.insert(tk.END, f\"Time Taken: {result['Time Taken (s)']} seconds\\n\")\n",
    "                output_text.insert(tk.END, \"-\"*50 + \"\\n\")  # Separator for each result\n",
    "        else:\n",
    "            output_text.delete(1.0, tk.END)\n",
    "            output_text.insert(tk.END, \"No matches found.\\n\")\n",
    "\n",
    "    except ValueError as ve:\n",
    "        messagebox.showerror(\"Search Error\", str(ve))\n",
    "    except RuntimeError as re:\n",
    "        messagebox.showerror(\"Search Error\", str(re))\n",
    "    except Exception as e:\n",
    "        messagebox.showerror(\"Unexpected Error\", f\"An unexpected error occurred: {str(e)}\")\n"
   ]
  },
  {
   "cell_type": "code",
   "execution_count": 9,
   "id": "fd776e33-1ee3-4260-8623-ddb310451ae4",
   "metadata": {},
   "outputs": [],
   "source": [
    "# Load the text files into DataFrame\n",
    "file_pattern = \"Research#*.txt\"\n",
    "data = {'Filename': [], 'Content': []}\n",
    "\n",
    "try:\n",
    "    files_found = glob.glob(file_pattern)\n",
    "    if not files_found:\n",
    "        raise FileNotFoundError(f\"No files found matching pattern {file_pattern}\")\n",
    "\n",
    "    for filepath in files_found:\n",
    "        try:\n",
    "            with open(filepath, 'r', encoding='utf-8') as file:\n",
    "                data['Filename'].append(filepath)\n",
    "                data['Content'].append(file.read())\n",
    "        except Exception as e:\n",
    "            raise IOError(f\"Error reading file {filepath}: {str(e)}\")\n",
    "    \n",
    "    df = pd.DataFrame(data)\n",
    "    if df.empty:\n",
    "        raise ValueError(\"No valid content found in files.\")\n",
    "\n",
    "except FileNotFoundError as fnf_error:\n",
    "    messagebox.showerror(\"File Error\", str(fnf_error))\n",
    "except IOError as io_error:\n",
    "    messagebox.showerror(\"File Error\", str(io_error))\n",
    "except Exception as e:\n",
    "    messagebox.showerror(\"Unexpected Error\", f\"An unexpected error occurred: {str(e)}\")"
   ]
  },
  {
   "cell_type": "code",
   "execution_count": 10,
   "id": "ff2f7cb5-23e4-4c45-bf6e-843ffd8e5582",
   "metadata": {},
   "outputs": [
    {
     "data": {
      "text/plain": [
       "''"
      ]
     },
     "execution_count": 10,
     "metadata": {},
     "output_type": "execute_result"
    }
   ],
   "source": [
    "# Create the main window\n",
    "root = tk.Tk()\n",
    "root.title(\"Text Search App\")"
   ]
  },
  {
   "cell_type": "code",
   "execution_count": 11,
   "id": "38b23059-ac5d-4ae0-9c29-528934066917",
   "metadata": {},
   "outputs": [],
   "source": [
    "# Create the search text input\n",
    "tk.Label(root, text=\"Enter search text:\").pack(pady=10)\n",
    "search_entry = tk.Entry(root, width=50)\n",
    "search_entry.pack(pady=5)"
   ]
  },
  {
   "cell_type": "code",
   "execution_count": 12,
   "id": "4528bbea-a6fc-4744-b002-2749d9ce53b3",
   "metadata": {},
   "outputs": [],
   "source": [
    "# Create the algorithm choice dropdown\n",
    "tk.Label(root, text=\"Choose algorithm:\").pack(pady=10)\n",
    "algorithm_choice = ttk.Combobox(root, values=[\"brute_force\", \"kmp\"])\n",
    "algorithm_choice.current(0)  # Set default to 'brute_force'\n",
    "algorithm_choice.pack(pady=5)"
   ]
  },
  {
   "cell_type": "code",
   "execution_count": 13,
   "id": "2ef2b8a9-0383-4330-8bee-338a112e7fb1",
   "metadata": {},
   "outputs": [],
   "source": [
    "# Create a checkbox for case sensitivity\n",
    "case_sensitive_var = tk.BooleanVar()\n",
    "case_sensitive_checkbox = tk.Checkbutton(root, text=\"Case Sensitive\", variable=case_sensitive_var)\n",
    "case_sensitive_checkbox.pack(pady=5)"
   ]
  },
  {
   "cell_type": "code",
   "execution_count": 14,
   "id": "7a319a5b-90f6-475f-a335-e2d8a2f4d0a0",
   "metadata": {},
   "outputs": [],
   "source": [
    "# Create a checkbox for whole word match\n",
    "whole_word_var = tk.BooleanVar()\n",
    "whole_word_checkbox = tk.Checkbutton(root, text=\"Whole Word Match\", variable=whole_word_var)\n",
    "whole_word_checkbox.pack(pady=5)"
   ]
  },
  {
   "cell_type": "code",
   "execution_count": 15,
   "id": "7a5ea6b7-70b7-414f-bba0-5488bc4cbd62",
   "metadata": {},
   "outputs": [],
   "source": [
    "# Create the search button\n",
    "search_button = tk.Button(root, text=\"Search\", command=run_search)\n",
    "search_button.pack(pady=10)"
   ]
  },
  {
   "cell_type": "code",
   "execution_count": 16,
   "id": "a514d481-5460-4cce-a26b-d1a62aa4badf",
   "metadata": {},
   "outputs": [],
   "source": [
    "# Create a text widget to display the output\n",
    "output_text = tk.Text(root, height=20, width=80)\n",
    "output_text.pack(pady=20)"
   ]
  },
  {
   "cell_type": "code",
   "execution_count": 17,
   "id": "08359905-b0cb-4f70-8978-70651fd377d2",
   "metadata": {},
   "outputs": [],
   "source": [
    "# Run the Tkinter event loop\n",
    "root.mainloop()"
   ]
  },
  {
   "cell_type": "code",
   "execution_count": null,
   "id": "2886d1bd-c2cb-4c38-aa95-4d9fa82784c4",
   "metadata": {},
   "outputs": [],
   "source": []
  },
  {
   "cell_type": "code",
   "execution_count": null,
   "id": "d19afd9a-0d87-4e0e-946e-702d5bd71a52",
   "metadata": {},
   "outputs": [],
   "source": []
  },
  {
   "cell_type": "code",
   "execution_count": null,
   "id": "4e1bfd00-e5b5-4d1d-a78a-47d09b730388",
   "metadata": {},
   "outputs": [],
   "source": []
  },
  {
   "cell_type": "code",
   "execution_count": null,
   "id": "5f716b78-a440-4e7c-a7e3-992ab15b5d36",
   "metadata": {},
   "outputs": [],
   "source": []
  },
  {
   "cell_type": "code",
   "execution_count": null,
   "id": "3c111be5-5341-453a-8b01-8c9484b1fe44",
   "metadata": {},
   "outputs": [],
   "source": []
  },
  {
   "cell_type": "code",
   "execution_count": null,
   "id": "82f4579c-a240-4d24-996d-7c4473040163",
   "metadata": {},
   "outputs": [],
   "source": []
  }
 ],
 "metadata": {
  "kernelspec": {
   "display_name": "Python 3 (ipykernel)",
   "language": "python",
   "name": "python3"
  },
  "language_info": {
   "codemirror_mode": {
    "name": "ipython",
    "version": 3
   },
   "file_extension": ".py",
   "mimetype": "text/x-python",
   "name": "python",
   "nbconvert_exporter": "python",
   "pygments_lexer": "ipython3",
   "version": "3.12.4"
  }
 },
 "nbformat": 4,
 "nbformat_minor": 5
}
